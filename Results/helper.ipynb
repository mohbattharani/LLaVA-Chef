{
 "cells": [
  {
   "cell_type": "markdown",
   "id": "3060a016-9f59-4c8c-a27f-061e77582700",
   "metadata": {},
   "source": [
    "Models for testing:\n",
    "\n",
    "- llama: Testing is in process on AIMOS\n",
    "- llama-2: Could not download weights\n",
    "- llava: Tested completed for 50K samples on AIMOS\n",
    "- chef-transformer (t5): Testing completed. \n",
    "- mistral: testing on andes (ETA: 44 hrs)\n",
    "- llava-chef (our fine-tuned version)\n",
    "\n",
    "##### First, I tried to test on all samples that takes long time. Therefore, I have randomly selected 5000 samples from test set. First, I want to test all models on these 5000 samples and then may test the best model on whole test set from Recipe1M dataset. \n"
   ]
  },
  {
   "cell_type": "code",
   "execution_count": 1,
   "id": "dc56085a-bd86-47c7-b2fd-457bb16d7b82",
   "metadata": {
    "scrolled": true
   },
   "outputs": [
    {
     "name": "stdout",
     "output_type": "stream",
     "text": [
      "[2024-01-09 18:55:17,163] [INFO] [real_accelerator.py:110:get_accelerator] Setting ds_accelerator to cuda (auto detect)\n"
     ]
    }
   ],
   "source": [
    "import os, json, sys, torch\n",
    "from metrics import save_results\n",
    "\n",
    "def filter_test (test_file, pred_file):\n",
    "    data_test = json.load (open(test_file))\n",
    "    data_pred = json.load (open(pred_file))\n",
    "    print (\"The size of data_test:\", len(data_test), len(data_pred))\n",
    "    keys_test = list(data_test.keys())\n",
    "    keys_pred = list(data_pred.keys())\n",
    "    \n",
    "    keys = list(set(keys_test) & set(keys_pred))\n",
    "    \n",
    "    data2 = {}\n",
    "    \n",
    "    for k in keys:\n",
    "        data2[k] = data_pred[k]\n",
    "\n",
    "    return data2"
   ]
  },
  {
   "cell_type": "code",
   "execution_count": null,
   "id": "0e9c0aba-093f-4e63-a544-632e41fe64a3",
   "metadata": {},
   "outputs": [],
   "source": []
  },
  {
   "cell_type": "code",
   "execution_count": 23,
   "id": "354f4418-658a-4ecb-8005-64892b3168b1",
   "metadata": {},
   "outputs": [
    {
     "name": "stdout",
     "output_type": "stream",
     "text": [
      "llavachef_recipe1k.json : 1000\n",
      "cheft5_recipe1k.json : 1000\n",
      "llavachef_recipe_ImageTitle.json : 1000\n",
      "llavachef_recipe_onlyimage.json : 998\n",
      "llavachef_recipe_noimage.json : 1000\n",
      "llama_recipe1k.json : 624\n",
      "mistral_recipe1k.json : 1000\n",
      "llava_recipe1k.json : 1000\n"
     ]
    }
   ],
   "source": [
    "dir = \"results1k/\"\n",
    "files = os.listdir (dir)\n",
    "for fi in files:\n",
    "    file = dir + f\"{fi}\"\n",
    "    if (file.endswith (\".json\")):\n",
    "        data = json.load (open(file))\n",
    "        print (f\"{fi} : {len(data)}\")"
   ]
  },
  {
   "cell_type": "code",
   "execution_count": 10,
   "id": "a907f15c-e15a-4341-ac41-3bd06949e06d",
   "metadata": {},
   "outputs": [
    {
     "name": "stdout",
     "output_type": "stream",
     "text": [
      "cheft5_recipe : 50507\n",
      "mistral_recipe : 19226\n",
      "llama_recipe : 31872\n",
      "llava_recipe : 50507\n",
      "llava_chef_recipe : 50507\n",
      "==================================================\n",
      "cheft5_recipe1k : 1000\n",
      "mistral_recipe1k : 1000\n",
      "llama_recipe1k : 624\n",
      "llava_recipe1k : 1000\n",
      "llava_chef_recipe1k : 1000\n",
      "==================================================\n",
      "cheft5_recipe5k : 5000\n",
      "mistral_recipe5k : 5000\n",
      "llama_recipe5k : 3131\n",
      "llava_recipe5k : 5000\n",
      "llava_chef_recipe5k : 5000\n"
     ]
    }
   ],
   "source": [
    "results = []\n",
    "files = ['cheft5_recipe', 'mistral_recipe', 'llama_recipe', 'llava_recipe', 'llava_chef_recipe']\n",
    "save_dir = \"results/\"\n",
    "for fi in files:\n",
    "    file = save_dir + f\"{fi}.json\"\n",
    "    data = json.load (open(file))\n",
    "    print (f\"{fi} : {len(data)}\")\n",
    "\n",
    "print (\"=\" * 50)\n",
    "files = ['cheft5_recipe1k', 'mistral_recipe1k', 'llama_recipe1k', 'llava_recipe1k', 'llava_chef_recipe1k']\n",
    "for fi in files:\n",
    "    file = \"results1k/\" + f\"{fi}.json\"\n",
    "    data = json.load (open(file))\n",
    "    print (f\"{fi} : {len(data)}\")\n",
    "print (\"=\" * 50)\n",
    "files = ['cheft5_recipe5k', 'mistral_recipe5k', 'llama_recipe5k', 'llava_recipe5k', 'llava_chef_recipe5k']\n",
    "for fi in files:\n",
    "    file = \"results5k/\" + f\"{fi}.json\"\n",
    "    data = json.load (open(file))\n",
    "    print (f\"{fi} : {len(data)}\")"
   ]
  },
  {
   "cell_type": "code",
   "execution_count": 3,
   "id": "d838c428-1f7d-49e9-98bf-eaf5afeb68c3",
   "metadata": {},
   "outputs": [
    {
     "name": "stdout",
     "output_type": "stream",
     "text": [
      "The size of data_test: 50507 31872\n",
      "pred after filter, (llama_recipe): 31872\n",
      "The size of data_test: 50507 19226\n",
      "pred after filter, (mistral_recipe): 19226\n",
      "The size of data_test: 50507 50507\n",
      "pred after filter, (cheft5_recipe): 50507\n",
      "The size of data_test: 50507 50507\n",
      "pred after filter, (llava_recipe): 50507\n",
      "The size of data_test: 50507 50507\n",
      "pred after filter, (llava_chef_recipe): 50507\n"
     ]
    }
   ],
   "source": [
    "# Filter prediction samples 50507\n",
    "\n",
    "import json\n",
    "\n",
    "files = [\"llama_recipe\", \"mistral_recipe\", 'cheft5_recipe', \"llava_recipe\", \"llava_chef_recipe\"]\n",
    "test_file = \"/data/datasets/Food/Recipe1M/test_image.json\"\n",
    "\n",
    "for fi in  (files):\n",
    "    pred_file = \"results/\" + f\"{fi}.json\"\n",
    "    data2 = filter_test (test_file, pred_file)\n",
    "    print (f\"pred after filter, ({fi}):\", len(data2))\n",
    "    save_results (data2, pred_file)\n",
    "    "
   ]
  },
  {
   "cell_type": "code",
   "execution_count": 5,
   "id": "bbb7b751-7ce1-4dcc-8ccd-352d62f8b408",
   "metadata": {},
   "outputs": [
    {
     "name": "stdout",
     "output_type": "stream",
     "text": [
      "The size of data_test: 5000 57033\n",
      "pred after filter, (llama_recipe): 5000\n",
      "The size of data_test: 5000 19226\n",
      "pred after filter, (mistral_recipe): 5000\n",
      "The size of data_test: 5000 50507\n",
      "pred after filter, (cheft5_recipe): 5000\n",
      "The size of data_test: 5000 50507\n",
      "pred after filter, (llava_recipe): 5000\n",
      "The size of data_test: 5000 50507\n",
      "pred after filter, (llava_chef_recipe): 5000\n"
     ]
    }
   ],
   "source": [
    "\n",
    "files = [\"llama_recipe\", \"mistral_recipe\", 'cheft5_recipe', \"llava_recipe\", \"llava_chef_recipe\"]\n",
    "files5k = [\"llama_recipe5k\", \"mistral_recipe5k\", 'cheft5_recipe5k', \"llava_recipe5k\", \"llavachef_recipe5k\"]\n",
    "\n",
    "test_file = \"/data/datasets/Food/Recipe1M/test_5kimage.json\"\n",
    "\n",
    "for fi, fi2 in  zip (files, files5k):\n",
    "    pred_file = \"results/\" + f\"{fi}.json\"\n",
    "    data2 = filter_test (test_file, pred_file)\n",
    "    print (f\"pred after filter, ({fi}):\", len(data2))\n",
    "    save_results (data2, f\"results5k/{fi2}.json\" )"
   ]
  },
  {
   "cell_type": "code",
   "execution_count": 3,
   "id": "4336e6ae-668b-4218-ba51-6fb4adea4302",
   "metadata": {},
   "outputs": [
    {
     "name": "stdout",
     "output_type": "stream",
     "text": [
      "The size of data_test: 1000 57033\n",
      "pred after filter, (llama_recipe): 1000\n",
      "The size of data_test: 1000 19226\n",
      "pred after filter, (mistral_recipe): 1000\n",
      "The size of data_test: 1000 50507\n",
      "pred after filter, (cheft5_recipe): 1000\n",
      "The size of data_test: 1000 50507\n",
      "pred after filter, (llava_recipe): 1000\n",
      "The size of data_test: 1000 50507\n",
      "pred after filter, (llava_chef_recipe): 1000\n"
     ]
    }
   ],
   "source": [
    "\n",
    "files = [\"llama_recipe\", \"mistral_recipe\", 'cheft5_recipe', \"llava_recipe\", \"llava_chef_recipe\"]\n",
    "files5k = [\"llama_recipe1k\", \"mistral_recipe1k\", 'cheft5_recipe1k', \"llava_recipe\", \"llavachef_recipe\"]\n",
    "\n",
    "test_file = \"/data/datasets/Food/Recipe1M/test_1kimage.json\"\n",
    "save_dir = \"results/\"\n",
    "for fi, fi2 in  zip (files, files5k):\n",
    "    pred_file = save_dir + f\"{fi}.json\"\n",
    "    data2 = filter_test (test_file, pred_file)\n",
    "    print (f\"pred after filter, ({fi}):\", len(data2))\n",
    "    save_results (data2, f\"results1k/{fi2}.json\" )"
   ]
  },
  {
   "cell_type": "code",
   "execution_count": null,
   "id": "e6ba4621-c9d1-4c64-a01a-861421a5b2ea",
   "metadata": {},
   "outputs": [],
   "source": []
  },
  {
   "cell_type": "code",
   "execution_count": null,
   "id": "bf82c894-3605-4f21-8e5f-3cfba201058e",
   "metadata": {},
   "outputs": [],
   "source": []
  },
  {
   "cell_type": "code",
   "execution_count": null,
   "id": "7284b09d-3784-4a5e-8250-c7f8c4b1a451",
   "metadata": {},
   "outputs": [],
   "source": []
  },
  {
   "cell_type": "code",
   "execution_count": null,
   "id": "34ea2afe-79b1-4fe2-a72b-634cd69f1799",
   "metadata": {},
   "outputs": [],
   "source": []
  },
  {
   "cell_type": "code",
   "execution_count": null,
   "id": "680a57db-c753-49e4-8126-07ba4fd545bc",
   "metadata": {},
   "outputs": [],
   "source": []
  },
  {
   "cell_type": "code",
   "execution_count": null,
   "id": "4818a9cf-60dd-445e-984c-c811455d7180",
   "metadata": {},
   "outputs": [],
   "source": []
  },
  {
   "cell_type": "code",
   "execution_count": null,
   "id": "5ee30a65-1af0-4579-80d2-6bbd6fb1a0c9",
   "metadata": {},
   "outputs": [],
   "source": []
  },
  {
   "cell_type": "code",
   "execution_count": 7,
   "id": "88070d2d-5d0f-427d-80b4-09236c7cce51",
   "metadata": {},
   "outputs": [
    {
     "name": "stdout",
     "output_type": "stream",
     "text": [
      "image_caption_llava_0.json 50661\n",
      "image_caption_llava_10000.json 8402\n",
      "image_caption_llava_20000.json 8363\n",
      "image_caption_llava_30000.json 8196\n",
      "image_caption_llava_40000.json 8151\n",
      "image_caption_llava_50000.json 8168\n",
      "Total: 91941 91941\n"
     ]
    }
   ],
   "source": [
    "def counter (data):\n",
    "    return len(data.keys())\n",
    "\n",
    "dir = \"results/llava/results\"\n",
    "data_final = []\n",
    "#files = ['image_caption_llava_10000.json', 'image_caption_llava_20000.json', 'image_caption_llava_30000.json'\n",
    "total = 0\n",
    "for i in range (0, 60000, 10000):\n",
    "    file = f'image_caption_llava_{i}.json'\n",
    "    data = json.load (open(os.path.join(dir, file)))\n",
    "    data_final.extend (data)\n",
    "    total = total + len(data)\n",
    "    \n",
    "    print (file, len(data))\n",
    "print (\"Total:\", total, len(data_final))"
   ]
  },
  {
   "cell_type": "code",
   "execution_count": null,
   "id": "d1cd40ca-fdc9-4ccc-9de1-3ccd7325d3f4",
   "metadata": {},
   "outputs": [],
   "source": []
  },
  {
   "cell_type": "code",
   "execution_count": 6,
   "id": "1e2862b7-a217-4849-9a28-8769247525c7",
   "metadata": {},
   "outputs": [
    {
     "name": "stdout",
     "output_type": "stream",
     "text": [
      "The size of results: 49687\n"
     ]
    }
   ],
   "source": []
  },
  {
   "cell_type": "code",
   "execution_count": null,
   "id": "8573cf4d-c42a-432d-abaf-f42575d7a58a",
   "metadata": {},
   "outputs": [],
   "source": []
  },
  {
   "cell_type": "code",
   "execution_count": 26,
   "id": "5f216c71-eb14-4e11-b104-c55dabbd01e5",
   "metadata": {},
   "outputs": [],
   "source": []
  },
  {
   "cell_type": "code",
   "execution_count": null,
   "id": "a9ceb5aa-72a9-4b9c-bfa4-99017b88352d",
   "metadata": {},
   "outputs": [],
   "source": []
  },
  {
   "cell_type": "code",
   "execution_count": 5,
   "id": "25443840-1077-44f7-9e7e-aa69b108f18c",
   "metadata": {},
   "outputs": [
    {
     "name": "stdout",
     "output_type": "stream",
     "text": [
      "49687\n"
     ]
    }
   ],
   "source": []
  },
  {
   "cell_type": "code",
   "execution_count": 95,
   "id": "f96a4ff9-53d9-4493-bb3c-85814299c66c",
   "metadata": {},
   "outputs": [
    {
     "name": "stdout",
     "output_type": "stream",
     "text": [
      "The size of data_test: 5000 31956\n",
      "pred after filter, (llama_recipe): 3203\n",
      "The size of data_test: 5000 12583\n",
      "pred after filter, (mistral_recipe): 1240\n",
      "The size of data_test: 5000 50661\n",
      "pred after filter, (cheft5_recipe): 5000\n",
      "The size of data_test: 5000 50661\n",
      "pred after filter, (llava_recipe): 5000\n",
      "The size of data_test: 5000 50310\n",
      "pred after filter, (llava_chef_recipe): 4962\n"
     ]
    }
   ],
   "source": []
  },
  {
   "cell_type": "code",
   "execution_count": 4,
   "id": "48b042ab-37bd-4342-a983-f4cd432b64d9",
   "metadata": {},
   "outputs": [
    {
     "name": "stdout",
     "output_type": "stream",
     "text": [
      "The size of data5k: 5000\n",
      "results5k/cheft5_recipe5k.json: 5000\n",
      "results5k/mistral5k.json: 5000\n",
      "results5k/llama_recipe5k.json: 4760\n",
      "results5k/llava_recipe5k.json: 5000\n",
      "results5k/llava_chef_recipe5k.json: 5000\n"
     ]
    }
   ],
   "source": [
    "import json\n",
    "\n",
    "data5k = json.load (open(\"/data/datasets/Food/Recipe1M/test_5kimage.json\"))\n",
    "print (\"The size of data5k:\", len(data5k))\n",
    "results = []\n",
    "files = ['cheft5_recipe5k', 'mistral5k', 'llama_recipe5k', 'llava_recipe5k', 'llava_chef_recipe5k']\n",
    "save_dir = \"results5k/\"\n",
    "\n",
    "keys5k = list(data5k.keys())\n",
    "\n",
    "for fi in files:\n",
    "    file = save_dir + f\"{fi}.json\"\n",
    "    data = json.load (open(file))\n",
    "    print (f\"{file}: {len(data)}\")\n",
    "    if isinstance(data, list):\n",
    "        data2 = {}\n",
    "        for d in data:\n",
    "            data2[d['id']] = d\n",
    "        #print (f\"{file}: f{len(data2)}\")\n",
    "        #save_results (data2, file)"
   ]
  },
  {
   "cell_type": "code",
   "execution_count": 18,
   "id": "c8d7ed4c-b88e-447c-9298-5fc3d79ad46a",
   "metadata": {},
   "outputs": [
    {
     "name": "stdout",
     "output_type": "stream",
     "text": [
      "results/llama/recipe_llama_0.json: 38110\n"
     ]
    },
    {
     "ename": "FileNotFoundError",
     "evalue": "[Errno 2] No such file or directory: 'results/mistral/mistral.json'",
     "output_type": "error",
     "traceback": [
      "\u001b[0;31m---------------------------------------------------------------------------\u001b[0m",
      "\u001b[0;31mFileNotFoundError\u001b[0m                         Traceback (most recent call last)",
      "Cell \u001b[0;32mIn[18], line 19\u001b[0m\n\u001b[1;32m     17\u001b[0m \u001b[38;5;28;01mfor\u001b[39;00m fi, fi2 \u001b[38;5;129;01min\u001b[39;00m \u001b[38;5;28mzip\u001b[39m (files, files2):\n\u001b[1;32m     18\u001b[0m     file \u001b[38;5;241m=\u001b[39m save_dir \u001b[38;5;241m+\u001b[39m \u001b[38;5;124mf\u001b[39m\u001b[38;5;124m\"\u001b[39m\u001b[38;5;132;01m{\u001b[39;00mfi\u001b[38;5;132;01m}\u001b[39;00m\u001b[38;5;124m.json\u001b[39m\u001b[38;5;124m\"\u001b[39m\n\u001b[0;32m---> 19\u001b[0m     data \u001b[38;5;241m=\u001b[39m json\u001b[38;5;241m.\u001b[39mload (\u001b[38;5;28;43mopen\u001b[39;49m\u001b[43m(\u001b[49m\u001b[43mfile\u001b[49m\u001b[43m)\u001b[49m)\n\u001b[1;32m     20\u001b[0m     \u001b[38;5;28;01mif\u001b[39;00m \u001b[38;5;28misinstance\u001b[39m(data, \u001b[38;5;28mlist\u001b[39m):\n\u001b[1;32m     21\u001b[0m         data2 \u001b[38;5;241m=\u001b[39m {}\n",
      "File \u001b[0;32m~/anaconda3/envs/llava/lib/python3.10/site-packages/IPython/core/interactiveshell.py:286\u001b[0m, in \u001b[0;36m_modified_open\u001b[0;34m(file, *args, **kwargs)\u001b[0m\n\u001b[1;32m    279\u001b[0m \u001b[38;5;28;01mif\u001b[39;00m file \u001b[38;5;129;01min\u001b[39;00m {\u001b[38;5;241m0\u001b[39m, \u001b[38;5;241m1\u001b[39m, \u001b[38;5;241m2\u001b[39m}:\n\u001b[1;32m    280\u001b[0m     \u001b[38;5;28;01mraise\u001b[39;00m \u001b[38;5;167;01mValueError\u001b[39;00m(\n\u001b[1;32m    281\u001b[0m         \u001b[38;5;124mf\u001b[39m\u001b[38;5;124m\"\u001b[39m\u001b[38;5;124mIPython won\u001b[39m\u001b[38;5;124m'\u001b[39m\u001b[38;5;124mt let you open fd=\u001b[39m\u001b[38;5;132;01m{\u001b[39;00mfile\u001b[38;5;132;01m}\u001b[39;00m\u001b[38;5;124m by default \u001b[39m\u001b[38;5;124m\"\u001b[39m\n\u001b[1;32m    282\u001b[0m         \u001b[38;5;124m\"\u001b[39m\u001b[38;5;124mas it is likely to crash IPython. If you know what you are doing, \u001b[39m\u001b[38;5;124m\"\u001b[39m\n\u001b[1;32m    283\u001b[0m         \u001b[38;5;124m\"\u001b[39m\u001b[38;5;124myou can use builtins\u001b[39m\u001b[38;5;124m'\u001b[39m\u001b[38;5;124m open.\u001b[39m\u001b[38;5;124m\"\u001b[39m\n\u001b[1;32m    284\u001b[0m     )\n\u001b[0;32m--> 286\u001b[0m \u001b[38;5;28;01mreturn\u001b[39;00m \u001b[43mio_open\u001b[49m\u001b[43m(\u001b[49m\u001b[43mfile\u001b[49m\u001b[43m,\u001b[49m\u001b[43m \u001b[49m\u001b[38;5;241;43m*\u001b[39;49m\u001b[43margs\u001b[49m\u001b[43m,\u001b[49m\u001b[43m \u001b[49m\u001b[38;5;241;43m*\u001b[39;49m\u001b[38;5;241;43m*\u001b[39;49m\u001b[43mkwargs\u001b[49m\u001b[43m)\u001b[49m\n",
      "\u001b[0;31mFileNotFoundError\u001b[0m: [Errno 2] No such file or directory: 'results/mistral/mistral.json'"
     ]
    }
   ],
   "source": [
    "# Convert prediction file from list to dict \n",
    "\n",
    "import json\n",
    "\n",
    "results = []\n",
    "\n",
    "files = [\"llama/recipe_llama_0\", \"mistral/mistral\", 'cheft5/cheft5_recipe', \"llava/llava_recipe_0\", \"llava_chef/llava_recipe_0\"]\n",
    "\n",
    "files2 = [\"llama_recipe\", \"mistral_recipe\", 'cheft5_recipe', \"llava_recipe\", \"llava_chef_recipe\"]\n",
    "\n",
    "data_test = json.load (open(\"/data/datasets/Food/Recipe1M/test_image.json\"))\n",
    "\n",
    "save_dir = \"results/\"\n",
    "\n",
    "keys5k = list(data_test.keys())\n",
    "\n",
    "for fi, fi2 in zip (files, files2):\n",
    "    file = save_dir + f\"{fi}.json\"\n",
    "    data = json.load (open(file))\n",
    "    if isinstance(data, list):\n",
    "        data2 = {}\n",
    "        for d in data:\n",
    "            data2[d['id']] = d\n",
    "        print (f\"{file}: {len(data2)}\")\n",
    "        #save_results (data2, save_dir + f\"{fi2}.json\")"
   ]
  },
  {
   "cell_type": "code",
   "execution_count": 15,
   "id": "4e8292a1-4658-4ab6-b2e7-2bd66deaae1b",
   "metadata": {},
   "outputs": [
    {
     "name": "stdout",
     "output_type": "stream",
     "text": [
      "The size of data_test: 50507 31872\n",
      "pred after filter, (llama_recipe): 31872\n",
      "The size of data_test: 50507 22273\n",
      "pred after filter, (mistral_recipe): 19226\n",
      "The size of data_test: 50507 50507\n",
      "pred after filter, (cheft5_recipe): 50507\n",
      "The size of data_test: 50507 50661\n",
      "pred after filter, (llava_recipe): 50507\n",
      "The size of data_test: 50507 50507\n",
      "pred after filter, (llava_chef_recipe): 50507\n"
     ]
    }
   ],
   "source": []
  },
  {
   "cell_type": "code",
   "execution_count": 13,
   "id": "7e8e5bec-4998-4d3b-ad9d-095c7bea8459",
   "metadata": {},
   "outputs": [],
   "source": [
    "# Create list of 5000 samples randomly selected\n",
    "\n",
    "import random, json \n",
    "\n",
    "data = json.load (open(\"/data/datasets/Food/Recipe1M/test_image.json\"))\n",
    "#keys = list(data.keys())\n",
    "#random.shuffle (keys)\n",
    "data2={}\n",
    "for k in keys[:5000]:\n",
    "    data2[k] = data[k]\n",
    "save_results (data2, \"/data/datasets/Food/Recipe1M/test_5kimage.json\")\n"
   ]
  },
  {
   "cell_type": "code",
   "execution_count": 20,
   "id": "66608e1c-65d5-4c72-b121-82ea315b1253",
   "metadata": {},
   "outputs": [
    {
     "name": "stdout",
     "output_type": "stream",
     "text": [
      "The size of data_test: 5000 31872\n",
      "pred after filter, (llama_recipe): 3131\n",
      "The size of data_test: 5000 19226\n",
      "pred after filter, (mistral_recipe): 5000\n",
      "The size of data_test: 5000 50507\n",
      "pred after filter, (cheft5_recipe): 5000\n",
      "The size of data_test: 5000 50507\n",
      "pred after filter, (llava_recipe): 5000\n",
      "The size of data_test: 5000 50507\n",
      "pred after filter, (llava_chef_recipe): 5000\n"
     ]
    }
   ],
   "source": []
  },
  {
   "cell_type": "code",
   "execution_count": 40,
   "id": "eba130aa-e133-4efb-99d1-0ed277cbe9d8",
   "metadata": {},
   "outputs": [
    {
     "name": "stdout",
     "output_type": "stream",
     "text": [
      "The size of data_test: 1000 31872\n",
      "pred after filter, (llama_recipe): 624\n",
      "The size of data_test: 1000 12569\n",
      "pred after filter, (mistral_recipe): 249\n",
      "The size of data_test: 1000 50507\n",
      "pred after filter, (cheft5_recipe): 1000\n",
      "The size of data_test: 1000 50507\n",
      "pred after filter, (llava_recipe): 1000\n",
      "The size of data_test: 1000 50507\n",
      "pred after filter, (llava_chef_recipe): 1000\n"
     ]
    }
   ],
   "source": []
  },
  {
   "cell_type": "code",
   "execution_count": 10,
   "id": "25b21814-3e63-41d5-a194-b3613a8c6076",
   "metadata": {},
   "outputs": [
    {
     "name": "stdout",
     "output_type": "stream",
     "text": [
      "The size of data_test: 50524 50507\n",
      "50507\n"
     ]
    }
   ],
   "source": [
    "test_file = \"/data/datasets/Food/Recipe1M/test_image.json\"\n",
    "pred_file = \"results/llava_chef_recipe.json\"\n",
    "#pred_data = json.load (open(pred_file))\n",
    "#test_data = json.load (open(test_file))\n",
    "\n",
    "data2= filter_test (pred_file, test_file)\n",
    "print (len(data2))\n",
    "save_results (data2, test_file)\n",
    "\n"
   ]
  },
  {
   "cell_type": "code",
   "execution_count": 4,
   "id": "113979ca-037f-4c03-8cb9-7739d61f8d94",
   "metadata": {},
   "outputs": [
    {
     "ename": "TypeError",
     "evalue": "string indices must be integers",
     "output_type": "error",
     "traceback": [
      "\u001b[0;31m---------------------------------------------------------------------------\u001b[0m",
      "\u001b[0;31mTypeError\u001b[0m                                 Traceback (most recent call last)",
      "Cell \u001b[0;32mIn[4], line 8\u001b[0m\n\u001b[1;32m      6\u001b[0m data \u001b[38;5;241m=\u001b[39m json\u001b[38;5;241m.\u001b[39mload (\u001b[38;5;28mopen\u001b[39m(\u001b[38;5;28mdir\u001b[39m \u001b[38;5;241m+\u001b[39m fi))\n\u001b[1;32m      7\u001b[0m \u001b[38;5;28;01mfor\u001b[39;00m d \u001b[38;5;129;01min\u001b[39;00m data:\n\u001b[0;32m----> 8\u001b[0m     k \u001b[38;5;241m=\u001b[39m \u001b[43md\u001b[49m\u001b[43m[\u001b[49m\u001b[38;5;124;43m'\u001b[39;49m\u001b[38;5;124;43mid\u001b[39;49m\u001b[38;5;124;43m'\u001b[39;49m\u001b[43m]\u001b[49m\n\u001b[1;32m      9\u001b[0m     data2[k] \u001b[38;5;241m=\u001b[39m d       \n\u001b[1;32m     10\u001b[0m \u001b[38;5;28mprint\u001b[39m (\u001b[38;5;124mf\u001b[39m\u001b[38;5;124m\"\u001b[39m\u001b[38;5;132;01m{\u001b[39;00mfi\u001b[38;5;132;01m}\u001b[39;00m\u001b[38;5;124m : \u001b[39m\u001b[38;5;132;01m{\u001b[39;00m\u001b[38;5;28mlen\u001b[39m(data)\u001b[38;5;132;01m}\u001b[39;00m\u001b[38;5;124m, \u001b[39m\u001b[38;5;132;01m{\u001b[39;00m\u001b[38;5;28mlen\u001b[39m(data2)\u001b[38;5;132;01m}\u001b[39;00m\u001b[38;5;124m\"\u001b[39m)\n",
      "\u001b[0;31mTypeError\u001b[0m: string indices must be integers"
     ]
    }
   ],
   "source": [
    "\n",
    "files = ['cheft5_recipe.json',]\n",
    "dir = \"results/\"\n",
    "data2 = {}\n",
    "    \n",
    "for fi in files:\n",
    "    data = json.load (open(dir + fi))\n",
    "    for d in data:\n",
    "        k = d['id']\n",
    "        data2[k] = d       \n",
    "    print (f\"{fi} : {len(data)}, {len(data2)}\")\n",
    "save_results (data2,  dir + fi)"
   ]
  },
  {
   "cell_type": "code",
   "execution_count": 7,
   "id": "4406ab8e-c87d-457a-a6c0-44fd26ed5af5",
   "metadata": {},
   "outputs": [
    {
     "name": "stdout",
     "output_type": "stream",
     "text": [
      "The size of data_test: 50507 50507\n",
      "pred after filter, (cheft5_recipe): 50507\n"
     ]
    }
   ],
   "source": [
    "\n",
    "files = ['cheft5_recipe',]\n",
    "dir = \"results/\"\n",
    "test_file = \"/data/datasets/Food/Recipe1M/test_image.json\"\n",
    "\n",
    "for fi in files:\n",
    "    pred_file = dir + f\"{fi}.json\"\n",
    "    data2 = filter_test (test_file, pred_file)\n",
    "    print (f\"pred after filter, ({fi}):\", len(data2))\n",
    "\n",
    "test_file = \"/data/datasets/Food/Recipe1M/test_5kimage.json\"\n",
    "#save_results (data2, \"results/cheft5_recipe.json\")"
   ]
  },
  {
   "cell_type": "code",
   "execution_count": 5,
   "id": "2fd92580-e1f8-4964-b9d9-400ec7fed889",
   "metadata": {},
   "outputs": [],
   "source": [
    "from PIL import Image\n",
    "\n",
    "image = Image.new('RGB', (512, 512))\n",
    "\n",
    "image.save (\"/data/datasets/Food/Recipe1M/images/empty.jpg\")\n"
   ]
  },
  {
   "cell_type": "code",
   "execution_count": 2,
   "id": "9b7e3856-cf26-4f73-8d1f-6a3f9968ab86",
   "metadata": {},
   "outputs": [
    {
     "data": {
      "image/png": "[encoded data removed]",
      "text/plain": [
       "<PIL.Image.Image image mode=RGB size=512x512>"
      ]
     },
     "execution_count": 2,
     "metadata": {},
     "output_type": "execute_result"
    }
   ],
   "source": [
    "image"
   ]
  },
  {
   "cell_type": "code",
   "execution_count": null,
   "id": "f3e5b862-baf8-4b06-bd63-05df77fc5a4b",
   "metadata": {},
   "outputs": [],
   "source": []
  }
 ],
 "metadata": {
  "kernelspec": {
   "display_name": "Python 3 (ipykernel)",
   "language": "python",
   "name": "python3"
  },
  "language_info": {
   "codemirror_mode": {
    "name": "ipython",
    "version": 3
   },
   "file_extension": ".py",
   "mimetype": "text/x-python",
   "name": "python",
   "nbconvert_exporter": "python",
   "pygments_lexer": "ipython3",
   "version": "3.10.12"
  }
 },
 "nbformat": 4,
 "nbformat_minor": 5
}
